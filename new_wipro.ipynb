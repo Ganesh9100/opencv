{
  "nbformat": 4,
  "nbformat_minor": 0,
  "metadata": {
    "colab": {
      "name": "new_wipro.ipynb",
      "provenance": [],
      "collapsed_sections": []
    },
    "kernelspec": {
      "name": "python3",
      "display_name": "Python 3"
    }
  },
  "cells": [
    {
      "cell_type": "code",
      "metadata": {
        "id": "SmzvkyJEw-0A",
        "colab_type": "code",
        "colab": {
          "base_uri": "https://localhost:8080/",
          "height": 163
        },
        "outputId": "fa646784-8266-4b30-8c91-6e3798c45815"
      },
      "source": [
        "# GREATEST OF NUMBER IN A GIEVN 2 ARRAY \n",
        "\n",
        "n=input()\n",
        "n=int(n)\n",
        "arr1=[]\n",
        "\n",
        "for i in range(n):\n",
        "  inp=input()\n",
        "  inp=int(inp)\n",
        "\n",
        "  arr1.append(inp)\n",
        "\n",
        "arr2=[]\n",
        "\n",
        "for i in range(n):\n",
        "  inp=input()\n",
        "  inp=int(inp)\n",
        "\n",
        "  arr2.append(inp)\n",
        "\n",
        "import numpy as np\n",
        "\n",
        "ans1=np.max(arr1)\n",
        "ans2=np.max(arr2)\n",
        "\n",
        "if ans1>ans2:\n",
        "  print(ans1)\n",
        "else:\n",
        "  print(ans2)\n",
        "\n",
        "\n"
      ],
      "execution_count": null,
      "outputs": [
        {
          "output_type": "stream",
          "text": [
            "3\n",
            "5\n",
            "7\n",
            "10\n",
            "15\n",
            "2\n",
            "5\n",
            "15\n"
          ],
          "name": "stdout"
        }
      ]
    },
    {
      "cell_type": "code",
      "metadata": {
        "id": "iYIaH2XkxlXi",
        "colab_type": "code",
        "colab": {}
      },
      "source": [
        ""
      ],
      "execution_count": null,
      "outputs": []
    },
    {
      "cell_type": "code",
      "metadata": {
        "id": "Jleqm0z4DA1T",
        "colab_type": "code",
        "colab": {
          "base_uri": "https://localhost:8080/",
          "height": 54
        },
        "outputId": "23ff7bcd-9da6-4a22-edaf-3d5ef3a1c2ae"
      },
      "source": [
        "# last digit\n",
        "n=input()\n",
        "n=int(n)\n",
        "ans=n%10\n",
        "print(ans)"
      ],
      "execution_count": 1,
      "outputs": [
        {
          "output_type": "stream",
          "text": [
            "90\n",
            "0\n"
          ],
          "name": "stdout"
        }
      ]
    },
    {
      "cell_type": "code",
      "metadata": {
        "id": "EvdKSzM2DSMv",
        "colab_type": "code",
        "colab": {
          "base_uri": "https://localhost:8080/",
          "height": 54
        },
        "outputId": "da323b8a-614a-4643-ade3-c10a399413a7"
      },
      "source": [
        "# important PRINT THE LAST 2ND DIGIT\n",
        "\n",
        "n=input()\n",
        "n=int(n)\n",
        "count=0\n",
        "while(n>0):\n",
        "  \n",
        "\n",
        "  rem=n%10\n",
        "  count=count+1\n",
        "  if count==2:\n",
        "    print(rem)\n",
        "    break\n",
        "  #print(rem,end=\" \")\n",
        "  n=n//10\n"
      ],
      "execution_count": 2,
      "outputs": [
        {
          "output_type": "stream",
          "text": [
            "145761559598\n",
            "5\n"
          ],
          "name": "stdout"
        }
      ]
    },
    {
      "cell_type": "code",
      "metadata": {
        "id": "0sMdtvmsDjfm",
        "colab_type": "code",
        "colab": {}
      },
      "source": [
        ""
      ],
      "execution_count": null,
      "outputs": []
    },
    {
      "cell_type": "code",
      "metadata": {
        "id": "FlRMX2eRD6ci",
        "colab_type": "code",
        "colab": {
          "base_uri": "https://localhost:8080/",
          "height": 54
        },
        "outputId": "5300b3c3-bc7b-476b-d074-0f4b2e65efa8"
      },
      "source": [
        "#sum of last 2 digit\n",
        "\n",
        "n=input()\n",
        "n=int(n)\n",
        "count=0\n",
        "\n",
        "digit=[]\n",
        "while(n>0):\n",
        "  dig=n%10\n",
        "  n=n//10\n",
        "  digit.append(dig)\n",
        "\n",
        "sum=digit[0]+digit[1]\n",
        "print(sum)\n",
        "  \n",
        "\n"
      ],
      "execution_count": 3,
      "outputs": [
        {
          "output_type": "stream",
          "text": [
            "145761559598\n",
            "17\n"
          ],
          "name": "stdout"
        }
      ]
    },
    {
      "cell_type": "code",
      "metadata": {
        "id": "8gSjr-dlH7d8",
        "colab_type": "code",
        "colab": {
          "base_uri": "https://localhost:8080/",
          "height": 145
        },
        "outputId": "30d9f26e-dba1-4cdb-f911-85f543ef867d"
      },
      "source": [
        "#NO OF EVEN NO AND ODD NO IN A ARRAY  \n",
        "\n",
        "\n",
        "n=5\n",
        "inp=[]\n",
        "for i in range(n):\n",
        "  a=input()\n",
        "  a=int(a)\n",
        "  inp.append(a)\n",
        "\n",
        "count=0\n",
        "import numpy as np \n",
        "inp=np.abs(inp)\n",
        "\n",
        "\n",
        "for i in inp:\n",
        "  if i%2==0:                        # len(n) - count = odd number \n",
        "    count=count+1\n",
        "print(\"No of even number\",count)\n",
        "\n",
        "print(\"No of odd number\",len(inp)-count)\n"
      ],
      "execution_count": 5,
      "outputs": [
        {
          "output_type": "stream",
          "text": [
            "-5\n",
            "2\n",
            "30\n",
            "51\n",
            "5\n",
            "No of even number 2\n",
            "No of odd number 3\n"
          ],
          "name": "stdout"
        }
      ]
    },
    {
      "cell_type": "code",
      "metadata": {
        "id": "m9_wGBNdKSOA",
        "colab_type": "code",
        "colab": {
          "base_uri": "https://localhost:8080/",
          "height": 35
        },
        "outputId": "b131aeaa-91e3-49a0-9a44-f4f346c76c70"
      },
      "source": [
        "print(inp)"
      ],
      "execution_count": null,
      "outputs": [
        {
          "output_type": "stream",
          "text": [
            "[45  9  7 42  6]\n"
          ],
          "name": "stdout"
        }
      ]
    },
    {
      "cell_type": "code",
      "metadata": {
        "id": "mkdGmXNpL6xp",
        "colab_type": "code",
        "colab": {
          "base_uri": "https://localhost:8080/",
          "height": 35
        },
        "outputId": "8f1f9708-a8a8-4797-9f13-c6a14a179637"
      },
      "source": [
        "# prime number OR NOT \n",
        "\n",
        "num = 75\n",
        "\n",
        "if num > 1: \n",
        "\n",
        "   for i in range(2, num):  \n",
        "       if (num % i) == 0: \n",
        "           print(num, \"is not a prime number\") \n",
        "           break\n",
        "   else:\n",
        "     \n",
        "       print(num, \"is a prime number\") \n",
        "  \n",
        "else: \n",
        "   print(num, \"is not a prime number\")"
      ],
      "execution_count": 7,
      "outputs": [
        {
          "output_type": "stream",
          "text": [
            "75 is not a prime number\n"
          ],
          "name": "stdout"
        }
      ]
    },
    {
      "cell_type": "code",
      "metadata": {
        "id": "DPd6ySGcOU-u",
        "colab_type": "code",
        "colab": {}
      },
      "source": [
        ""
      ],
      "execution_count": null,
      "outputs": []
    },
    {
      "cell_type": "code",
      "metadata": {
        "id": "KSQxUjLPPPua",
        "colab_type": "code",
        "colab": {
          "base_uri": "https://localhost:8080/",
          "height": 35
        },
        "outputId": "4b90d8e7-315c-4d20-ebf2-3a476ea8ab93"
      },
      "source": [
        "# FACTORIAL OF GIVEN NO\n",
        "\n",
        "import numpy as np\n",
        "\n",
        "def fact(n):\n",
        "  n=np.abs(n)\n",
        "\n",
        "  if n == 0 :\n",
        "    return 1 \n",
        "    \n",
        "  if n is 1:\n",
        "    return 1\n",
        "  \n",
        "  else:\n",
        "    return n * fact(n-1)\n",
        "\n",
        "fact(-0)"
      ],
      "execution_count": 12,
      "outputs": [
        {
          "output_type": "execute_result",
          "data": {
            "text/plain": [
              "1"
            ]
          },
          "metadata": {
            "tags": []
          },
          "execution_count": 12
        }
      ]
    },
    {
      "cell_type": "code",
      "metadata": {
        "id": "kQIQoFhcPu69",
        "colab_type": "code",
        "colab": {
          "base_uri": "https://localhost:8080/",
          "height": 54
        },
        "outputId": "5b85e595-0623-46f3-94e8-d5ef046d4561"
      },
      "source": [
        "#FIBONIC OF NTH \n",
        "\n",
        "def fibonic(n):\n",
        "\n",
        "  a=0\n",
        "  b=1\n",
        "  print(a,end=\" \")\n",
        "  print(b,end=\" \")\n",
        "\n",
        "  if n==0:\n",
        "    return 0\n",
        "  elif n== 1:\n",
        "    return 1\n",
        "\n",
        "  else:\n",
        "    for i in range(2,n):\n",
        "\n",
        "      c=a+b\n",
        "      print(c,end=\" \")\n",
        "      a=b\n",
        "      b=c\n",
        "    print()\n",
        "    return print(\"the number at\",n,\"is\",c)\n",
        "\n",
        "\n",
        "fibonic(10)\n",
        "\n"
      ],
      "execution_count": 14,
      "outputs": [
        {
          "output_type": "stream",
          "text": [
            "0 1 1 2 3 5 8 13 21 34 \n",
            "the number at 10 is 34\n"
          ],
          "name": "stdout"
        }
      ]
    },
    {
      "cell_type": "code",
      "metadata": {
        "id": "GN5hmpacSQ3H",
        "colab_type": "code",
        "colab": {}
      },
      "source": [
        ""
      ],
      "execution_count": null,
      "outputs": []
    },
    {
      "cell_type": "code",
      "metadata": {
        "id": "CMmk-S2vRWFR",
        "colab_type": "code",
        "colab": {
          "base_uri": "https://localhost:8080/",
          "height": 72
        },
        "outputId": "bb93cdf7-312c-4e39-c539-2f0517f7a1e0"
      },
      "source": [
        "#  NTH PRIME NUMBER \n",
        "\n",
        "def prime(n):\n",
        "  l=[]\n",
        "  for i in range(2,n*n):\n",
        "    for j in range(2,i):\n",
        "      if i % j == 0:\n",
        "        break \n",
        "    else:\n",
        "      l.append(i)\n",
        "  return l,l[n-1]\n",
        "  \n",
        "    \n",
        "p_list,n_th=prime(7)\n",
        "\n",
        "\n",
        "print(p_list)\n",
        "print()\n",
        "print(n_th)\n",
        "\n"
      ],
      "execution_count": 21,
      "outputs": [
        {
          "output_type": "stream",
          "text": [
            "[2, 3, 5, 7, 11, 13, 17, 19, 23, 29, 31, 37, 41, 43, 47]\n",
            "\n",
            "17\n"
          ],
          "name": "stdout"
        }
      ]
    },
    {
      "cell_type": "code",
      "metadata": {
        "id": "5VvE5HjhS0a_",
        "colab_type": "code",
        "colab": {}
      },
      "source": [
        ""
      ],
      "execution_count": null,
      "outputs": []
    },
    {
      "cell_type": "code",
      "metadata": {
        "id": "82F-MqU2ZWfo",
        "colab_type": "code",
        "colab": {
          "base_uri": "https://localhost:8080/",
          "height": 35
        },
        "outputId": "fcd3d527-1c79-43d1-f174-2056888f3f9a"
      },
      "source": [
        "# all digits count \n",
        "\n",
        "\n",
        "def count(n):\n",
        "\n",
        "  count=0\n",
        "  while(n>0):\n",
        "    dig=n%10\n",
        "    n=n//10\n",
        "    count=count+1\n",
        "  return count\n",
        "\n",
        "count(523)\n"
      ],
      "execution_count": 22,
      "outputs": [
        {
          "output_type": "execute_result",
          "data": {
            "text/plain": [
              "3"
            ]
          },
          "metadata": {
            "tags": []
          },
          "execution_count": 22
        }
      ]
    },
    {
      "cell_type": "code",
      "metadata": {
        "id": "slEnMam5S1--",
        "colab_type": "code",
        "colab": {
          "base_uri": "https://localhost:8080/",
          "height": 35
        },
        "outputId": "58c4c137-9f84-4593-acd9-fcecd391bf78"
      },
      "source": [
        "# UNIQUE DIGITS ( NO DUPLICATES )\n",
        "\n",
        "import numpy as np\n",
        "\n",
        "def count(n):\n",
        "  if n==0:\n",
        "    return 1\n",
        "  if n<0:\n",
        "    n=np.abs(n)\n",
        "  \n",
        "\n",
        "  ll=set()\n",
        "  while(n>0):\n",
        "    dig=n%10\n",
        "    n=n//10\n",
        "    ll.add(dig)\n",
        "    #print(ll)\n",
        "  return len(ll)\n",
        "\n",
        "  \n",
        "\n",
        "count(-244)\n"
      ],
      "execution_count": 23,
      "outputs": [
        {
          "output_type": "execute_result",
          "data": {
            "text/plain": [
              "2"
            ]
          },
          "metadata": {
            "tags": []
          },
          "execution_count": 23
        }
      ]
    },
    {
      "cell_type": "code",
      "metadata": {
        "id": "zNZhLeGBaGmW",
        "colab_type": "code",
        "colab": {}
      },
      "source": [
        ""
      ],
      "execution_count": null,
      "outputs": []
    },
    {
      "cell_type": "code",
      "metadata": {
        "id": "XvolIff5bpvK",
        "colab_type": "code",
        "colab": {
          "base_uri": "https://localhost:8080/",
          "height": 35
        },
        "outputId": "2bfb4f6a-76e5-4658-a5d4-792acbb6e6a7"
      },
      "source": [
        "# COUNT THE NO OF GIVEN DIGIT IN A ARRRAY \n",
        "\n",
        "\n",
        "def unique(n,digg):\n",
        "  chk=[]\n",
        "\n",
        "  while(n>0):\n",
        "    dig=n%10\n",
        "    n=n//10\n",
        "    chk.append(dig)\n",
        "  \n",
        "  return chk.count(digg)\n",
        "\n",
        "unique(1111646,6)\n"
      ],
      "execution_count": 24,
      "outputs": [
        {
          "output_type": "execute_result",
          "data": {
            "text/plain": [
              "2"
            ]
          },
          "metadata": {
            "tags": []
          },
          "execution_count": 24
        }
      ]
    },
    {
      "cell_type": "code",
      "metadata": {
        "id": "KmQtrMlecYYm",
        "colab_type": "code",
        "colab": {
          "base_uri": "https://localhost:8080/",
          "height": 35
        },
        "outputId": "4ce22913-8592-47ee-8c36-af722184c444"
      },
      "source": [
        "# SUM OF ALL N DIGITS \n",
        "\n",
        "import numpy as np\n",
        "\n",
        "def summ(n):\n",
        "  sum=0\n",
        "  if n ==0:\n",
        "    return 0\n",
        "  if n<0:\n",
        "    n=np.abs(n)\n",
        "    return summ(n)\n",
        "  while(n>0):\n",
        "    dig=n%10\n",
        "    n=n//10\n",
        "    sum=sum+dig\n",
        "  return sum\n",
        "summ(-154)"
      ],
      "execution_count": 27,
      "outputs": [
        {
          "output_type": "execute_result",
          "data": {
            "text/plain": [
              "10"
            ]
          },
          "metadata": {
            "tags": []
          },
          "execution_count": 27
        }
      ]
    },
    {
      "cell_type": "code",
      "metadata": {
        "id": "typ2jKlkioaZ",
        "colab_type": "code",
        "colab": {}
      },
      "source": [
        ""
      ],
      "execution_count": null,
      "outputs": []
    },
    {
      "cell_type": "code",
      "metadata": {
        "id": "4g_OfI7djPc2",
        "colab_type": "code",
        "colab": {
          "base_uri": "https://localhost:8080/",
          "height": 54
        },
        "outputId": "41f064ea-d89e-469c-ad40-c6ab0119937c"
      },
      "source": [
        "# sum of even digits in n ARRAY \n",
        "\n",
        "def summ_even(n):\n",
        "  sum=0\n",
        "  odd_sum=0\n",
        "  if n==0:\n",
        "    return 0\n",
        "  if n<0:\n",
        "    import numpy as np\n",
        "    n=np.abs(n)\n",
        "    return summ_even(n)\n",
        "  while(n>0):\n",
        "    dig=n%10\n",
        "    n=n//10\n",
        "    if dig%2==0:\n",
        "      sum=sum+dig\n",
        "    else:\n",
        "      odd_sum=odd_sum + dig\n",
        "  return sum,odd_sum\n",
        "\n",
        "s_even,s_odd = summ_even(213)   # this wont work with -0 and 0\n",
        "print(\"Even sum\",s_even)\n",
        "print(\"odd sum\",s_odd)\n",
        "\n"
      ],
      "execution_count": 37,
      "outputs": [
        {
          "output_type": "stream",
          "text": [
            "Even sum 2\n",
            "odd sum 4\n"
          ],
          "name": "stdout"
        }
      ]
    },
    {
      "cell_type": "code",
      "metadata": {
        "id": "3l1-gmxtj98s",
        "colab_type": "code",
        "colab": {
          "base_uri": "https://localhost:8080/",
          "height": 35
        },
        "outputId": "3f824337-b397-489b-9413-cdbd27642ac6"
      },
      "source": [
        "# to check the number is palindrome \n",
        "\n",
        "\n",
        "\n",
        "def palindrome(n):\n",
        "  if n==0:\n",
        "    return print(\"its palindrome\")\n",
        "  if n<0:\n",
        "    import numpy as np \n",
        "    n=np.abs(n)\n",
        "    return palindrome(n)\n",
        "  chk_palindrome=[]\n",
        "  while(n>0):\n",
        "    dig=n%10\n",
        "    n=n//10\n",
        "    chk_palindrome.append(dig)\n",
        "  \n",
        "  \n",
        "  orginal=list(reversed(chk_palindrome))\n",
        "  \n",
        "  if chk_palindrome == orginal:\n",
        "    return print(\"Its palindrome\")\n",
        "  else:\n",
        "    return print(\"No its not palindrome\")\n",
        "\n",
        "palindrome(1001)"
      ],
      "execution_count": 43,
      "outputs": [
        {
          "output_type": "stream",
          "text": [
            "Its palindrome\n"
          ],
          "name": "stdout"
        }
      ]
    },
    {
      "cell_type": "code",
      "metadata": {
        "id": "t5IqFYzvlPu1",
        "colab_type": "code",
        "colab": {
          "base_uri": "https://localhost:8080/",
          "height": 35
        },
        "outputId": "a52d9c62-c88d-4e78-d9a5-8a8ef8587770"
      },
      "source": [
        "# PRINT THE SECOND WORD TO UPPER CASE \n",
        " \n",
        "def second_word(word):\n",
        "\n",
        "  text=word\n",
        "  text=text.split()\n",
        "  return text[1].upper()\n",
        "\n",
        "second_word(\"Ganesh aB. rake harish\")"
      ],
      "execution_count": 45,
      "outputs": [
        {
          "output_type": "execute_result",
          "data": {
            "application/vnd.google.colaboratory.intrinsic+json": {
              "type": "string"
            },
            "text/plain": [
              "'AB.'"
            ]
          },
          "metadata": {
            "tags": []
          },
          "execution_count": 45
        }
      ]
    },
    {
      "cell_type": "code",
      "metadata": {
        "id": "Q8EXw7y7m9Bu",
        "colab_type": "code",
        "colab": {
          "base_uri": "https://localhost:8080/",
          "height": 54
        },
        "outputId": "af814df1-27e3-4ae1-c371-efa46521c1fc"
      },
      "source": [
        "# Python code to reverse a string \n",
        "# using loop \n",
        "\n",
        "def reverse(s):\n",
        "  str = \"\" \n",
        "  for i in s:\n",
        "    str = i+str\n",
        "  return str.lower()\n",
        "\n",
        "s = \"Geeksforgeeks\"\n",
        "\n",
        "\n",
        "print (s.lower()) \n",
        "\n",
        "print (\"The reversed       \",end=\"\") \n",
        "print (reverse(s)) \n"
      ],
      "execution_count": null,
      "outputs": [
        {
          "output_type": "stream",
          "text": [
            "geeksforgeeks\n",
            "The reversed       skeegrofskeeg\n"
          ],
          "name": "stdout"
        }
      ]
    },
    {
      "cell_type": "code",
      "metadata": {
        "id": "FhHgnWH7oNI_",
        "colab_type": "code",
        "colab": {
          "base_uri": "https://localhost:8080/",
          "height": 35
        },
        "outputId": "534b26c5-ce67-4e68-ff9a-73389bdae65f"
      },
      "source": [
        "def reversee(s):\n",
        "  s=s[::-1]    # start stop step ,, by default start is 0 ( blank ), stop is length of string(blank ) , -1 start from reverse\n",
        "  \n",
        "  return s\n",
        "reversee(\"geeksforgeeks\")"
      ],
      "execution_count": 46,
      "outputs": [
        {
          "output_type": "execute_result",
          "data": {
            "application/vnd.google.colaboratory.intrinsic+json": {
              "type": "string"
            },
            "text/plain": [
              "'skeegrofskeeg'"
            ]
          },
          "metadata": {
            "tags": []
          },
          "execution_count": 46
        }
      ]
    },
    {
      "cell_type": "code",
      "metadata": {
        "id": "LJ9qfRKqqEBE",
        "colab_type": "code",
        "colab": {}
      },
      "source": [
        ""
      ],
      "execution_count": null,
      "outputs": []
    },
    {
      "cell_type": "code",
      "metadata": {
        "id": "NuRjk8ghotxn",
        "colab_type": "code",
        "colab": {
          "base_uri": "https://localhost:8080/",
          "height": 126
        },
        "outputId": "1c570d69-e079-4419-d642-30727c54e43c"
      },
      "source": [
        "# most frequent digit \n",
        "\n",
        "\n",
        "def mfd(n):\n",
        "  if n == 0:\n",
        "    return 0 \n",
        "  if n<0:\n",
        "    import numpy as np\n",
        "    n=np.abs(n)\n",
        "  new=[]\n",
        "  while(n>0):\n",
        "    dig=n%10\n",
        "    n=n//10\n",
        "    new.append(dig)\n",
        "  return new\n",
        "    \n",
        "A1=mfd(7624)\n",
        "A2=mfd(1203)\n",
        "A3=mfd(2046)\n",
        "A4=mfd(5043)\n",
        "\n",
        "ans=A1+A2+A3+A4\n",
        "print(ans)\n",
        "\n",
        "\n",
        "\n",
        "from collections import Counter\n",
        "def most_frequent(List):\n",
        "  occurence_count = Counter(List)\n",
        "  print(occurence_count.most_common())\n",
        "  return dict(occurence_count.most_common()),occurence_count.most_common(1)[0][0]\n",
        "\n",
        "\n",
        "\n",
        "\n",
        "aans_chk,direct_ans=most_frequent(ans)\n",
        "print(aans_chk)\n",
        "\n",
        "\n",
        "check=list(aans_chk.values())\n",
        "\n",
        "values_view = aans_chk.values()\n",
        "value_iterator = iter(values_view)\n",
        "first_value = next(value_iterator)\n",
        "\n",
        "\n",
        "\n",
        "def get_key(val):\n",
        "  g=[]\n",
        "  for key, value in my_dict.items():\n",
        "    if val == value:\n",
        "      g.append(key)\n",
        "  \n",
        "  return (g)\n",
        "\n",
        "\n",
        "my_dict =aans_chk\n",
        "\n",
        "if len(set(check)) == len(check):\n",
        "  print(direct_ans)\n",
        "\n",
        "else:\n",
        "  ini_dict = aans_chk\n",
        "  rev_dict = {}\n",
        "  for key, value in ini_dict.items():\n",
        "    rev_dict.setdefault(value, set()).add(key)\n",
        "  dup_values = [key for key, values in rev_dict.items() \n",
        "\t\t\t\t\t\t\tif len(values) > 1]\n",
        "  print(\"dup\",dup_values)\n",
        "  final_=[]\n",
        "  for i in (dup_values):\n",
        "    final_.append(get_key(i))\n",
        "  print(\"hyth\",final_)\n",
        "  \n",
        "  print(\"the ans is\",max(max(final_)))\n",
        "\n",
        "\n",
        "  "
      ],
      "execution_count": 118,
      "outputs": [
        {
          "output_type": "stream",
          "text": [
            "[4, 2, 6, 7, 3, 0, 2, 1, 6, 4, 0, 2, 3, 4, 0, 5]\n",
            "[(4, 3), (2, 3), (0, 3), (6, 2), (3, 2), (7, 1), (1, 1), (5, 1)]\n",
            "{4: 3, 2: 3, 0: 3, 6: 2, 3: 2, 7: 1, 1: 1, 5: 1}\n",
            "dup [3, 2, 1]\n",
            "hyth [[4, 2, 0], [6, 3], [7, 1, 5]]\n",
            "the ans is 7\n"
          ],
          "name": "stdout"
        }
      ]
    },
    {
      "cell_type": "code",
      "metadata": {
        "id": "SY52Ibd_pDH6",
        "colab_type": "code",
        "colab": {
          "base_uri": "https://localhost:8080/",
          "height": 54
        },
        "outputId": "5b153337-0cac-4929-a087-9392f6da44f5"
      },
      "source": [
        "\n",
        "ini_dict = {1: 7, 2: 7, 4: 1, 3: 1}\n",
        " \n",
        "rev_dict = {} \n",
        "\n",
        "for key, value in ini_dict.items(): \n",
        "\trev_dict.setdefault(value, set()).add(key) \n",
        "\t\n",
        "result = [key for key, values in rev_dict.items() \n",
        "\t\t\t\t\t\t\tif len(values) > 1] \n",
        "\n"
      ],
      "execution_count": 75,
      "outputs": [
        {
          "output_type": "stream",
          "text": [
            "initial_dictionary {1: 7, 2: 7, 4: 1, 3: 1}\n",
            "duplicate values [7, 1]\n"
          ],
          "name": "stdout"
        }
      ]
    },
    {
      "cell_type": "code",
      "metadata": {
        "id": "H9Ih3WTcpvcX",
        "colab_type": "code",
        "colab": {}
      },
      "source": [
        "\n",
        "def get_key(val):\n",
        "  g=[]\n",
        "  for key, value in my_dict.items():\n",
        "    if val == value:\n",
        "      g.append(key)\n",
        "  print(max(g))\n",
        "\n",
        "\n",
        "my_dict ={1: 7, 2: 7, 4: 1, 3: 1}\n",
        "\n"
      ],
      "execution_count": 89,
      "outputs": []
    },
    {
      "cell_type": "code",
      "metadata": {
        "id": "Y7KGKRR5lUzh",
        "colab_type": "code",
        "colab": {
          "base_uri": "https://localhost:8080/",
          "height": 207
        },
        "outputId": "8d547f91-dc60-489d-e6da-caf794f966ab"
      },
      "source": [
        "a=['10','20','52']\n",
        "b=' '.join(a)\n",
        "print(b)"
      ],
      "execution_count": 67,
      "outputs": [
        {
          "output_type": "error",
          "ename": "ValueError",
          "evalue": "ignored",
          "traceback": [
            "\u001b[0;31m---------------------------------------------------------------------------\u001b[0m",
            "\u001b[0;31mValueError\u001b[0m                                Traceback (most recent call last)",
            "\u001b[0;32m<ipython-input-67-8cf716e16138>\u001b[0m in \u001b[0;36m<module>\u001b[0;34m()\u001b[0m\n\u001b[1;32m      1\u001b[0m \u001b[0ma\u001b[0m\u001b[0;34m=\u001b[0m\u001b[0;34m[\u001b[0m\u001b[0;34m'10'\u001b[0m\u001b[0;34m,\u001b[0m\u001b[0;34m'20'\u001b[0m\u001b[0;34m,\u001b[0m\u001b[0;34m'52'\u001b[0m\u001b[0;34m]\u001b[0m\u001b[0;34m\u001b[0m\u001b[0;34m\u001b[0m\u001b[0m\n\u001b[1;32m      2\u001b[0m \u001b[0mb\u001b[0m\u001b[0;34m=\u001b[0m\u001b[0;34m' '\u001b[0m\u001b[0;34m.\u001b[0m\u001b[0mjoin\u001b[0m\u001b[0;34m(\u001b[0m\u001b[0ma\u001b[0m\u001b[0;34m)\u001b[0m\u001b[0;34m\u001b[0m\u001b[0;34m\u001b[0m\u001b[0m\n\u001b[0;32m----> 3\u001b[0;31m \u001b[0mprint\u001b[0m\u001b[0;34m(\u001b[0m\u001b[0mint\u001b[0m\u001b[0;34m(\u001b[0m\u001b[0mb\u001b[0m\u001b[0;34m)\u001b[0m\u001b[0;34m)\u001b[0m\u001b[0;34m\u001b[0m\u001b[0;34m\u001b[0m\u001b[0m\n\u001b[0m",
            "\u001b[0;31mValueError\u001b[0m: invalid literal for int() with base 10: '10 20 52'"
          ]
        }
      ]
    },
    {
      "cell_type": "code",
      "metadata": {
        "id": "4RYBSXUzrA1K",
        "colab_type": "code",
        "colab": {
          "base_uri": "https://localhost:8080/",
          "height": 35
        },
        "outputId": "d4768810-46cb-4004-9ba2-e2333d044ada"
      },
      "source": [
        "\n",
        "from collections import Counter \n",
        "\n",
        "def most_frequent(List): \n",
        "\toccurence_count = Counter(List) \n",
        "\treturn occurence_count.most_common(1)[0][0]\n",
        "\t\n",
        "List = [3,3,2,1,2, 1, 2, 2, 1, 3]\n",
        "\n",
        "print(most_frequent(List)) \n"
      ],
      "execution_count": 48,
      "outputs": [
        {
          "output_type": "stream",
          "text": [
            "2\n"
          ],
          "name": "stdout"
        }
      ]
    },
    {
      "cell_type": "code",
      "metadata": {
        "id": "zeWxhXFrrGhW",
        "colab_type": "code",
        "colab": {
          "base_uri": "https://localhost:8080/",
          "height": 35
        },
        "outputId": "ea9f7c99-8381-4b04-a67e-92abb2082321"
      },
      "source": [
        "from collections import Counter\n",
        "lists=['A','A','A','B','B','a','ganesh?']\n",
        "chk=Counter(lists)\n",
        "chk.most_common()[0][0]"
      ],
      "execution_count": null,
      "outputs": [
        {
          "output_type": "execute_result",
          "data": {
            "application/vnd.google.colaboratory.intrinsic+json": {
              "type": "string"
            },
            "text/plain": [
              "'A'"
            ]
          },
          "metadata": {
            "tags": []
          },
          "execution_count": 111
        }
      ]
    },
    {
      "cell_type": "code",
      "metadata": {
        "id": "AMh2g_twtT1E",
        "colab_type": "code",
        "colab": {
          "base_uri": "https://localhost:8080/",
          "height": 35
        },
        "outputId": "13cdcba1-263b-4e96-b5f1-4bd7a1798448"
      },
      "source": [
        "s = 'ganesh raj'\n",
        "np.prod([i+1 for i,v in enumerate(s) if v in ['a','e','i','o','u']])\n",
        "\n",
        "\n"
      ],
      "execution_count": null,
      "outputs": [
        {
          "output_type": "execute_result",
          "data": {
            "text/plain": [
              "72"
            ]
          },
          "metadata": {
            "tags": []
          },
          "execution_count": 84
        }
      ]
    },
    {
      "cell_type": "code",
      "metadata": {
        "id": "0urdaUP6yaNJ",
        "colab_type": "code",
        "colab": {}
      },
      "source": [
        ""
      ],
      "execution_count": null,
      "outputs": []
    },
    {
      "cell_type": "code",
      "metadata": {
        "id": "pSf679ynz_ay",
        "colab_type": "code",
        "colab": {
          "base_uri": "https://localhost:8080/",
          "height": 35
        },
        "outputId": "ca2b4399-4dcd-46cd-e536-436ca9174b7f"
      },
      "source": [
        "def ppp(s):\n",
        "\n",
        "  def chk(n):\n",
        "    if n<10:\n",
        "      return n\n",
        "    else:\n",
        "      new_sum=0\n",
        "      while(n>0):\n",
        "        dig=n%10\n",
        "        n=n//10\n",
        "        new_sum=new_sum+dig\n",
        "      c=chk(new_sum)\n",
        "      return c\n",
        "\n",
        "  s=s.split()\n",
        "  tot=0\n",
        "  for i in s:\n",
        "    tot=len(i)+tot\n",
        "  \n",
        "  if tot<10:\n",
        "    return tot\n",
        "  else:\n",
        "    ans=chk(tot)\n",
        "    return ans\n",
        "  \n",
        "\n",
        "ppp(\"Ganesh raj is good boy\")"
      ],
      "execution_count": null,
      "outputs": [
        {
          "output_type": "execute_result",
          "data": {
            "text/plain": [
              "9"
            ]
          },
          "metadata": {
            "tags": []
          },
          "execution_count": 98
        }
      ]
    },
    {
      "cell_type": "code",
      "metadata": {
        "id": "-QEs6xaB0tw0",
        "colab_type": "code",
        "colab": {}
      },
      "source": [
        ""
      ],
      "execution_count": null,
      "outputs": []
    },
    {
      "cell_type": "code",
      "metadata": {
        "id": "cjAT40jR5ROv",
        "colab_type": "code",
        "colab": {
          "base_uri": "https://localhost:8080/",
          "height": 35
        },
        "outputId": "962d648c-df67-4bdf-b6e6-013c02ab524e"
      },
      "source": [
        "a=\"1234\"\n",
        "b=\"56\"\n",
        "\n",
        "a=int(a)\n",
        "b=int(b)\n",
        "c=a+b\n",
        "print(str(c))"
      ],
      "execution_count": null,
      "outputs": [
        {
          "output_type": "stream",
          "text": [
            "1290\n"
          ],
          "name": "stdout"
        }
      ]
    },
    {
      "cell_type": "code",
      "metadata": {
        "id": "BFJoKCSaSrxb",
        "colab_type": "code",
        "colab": {}
      },
      "source": [
        ""
      ],
      "execution_count": null,
      "outputs": []
    },
    {
      "cell_type": "code",
      "metadata": {
        "id": "JST8ibs_Whxv",
        "colab_type": "code",
        "colab": {
          "base_uri": "https://localhost:8080/",
          "height": 35
        },
        "outputId": "d59d8395-ce7e-40e3-ee91-bca4b010b4e3"
      },
      "source": [
        "# Identify possible words \n",
        "\n",
        "input_dict= ['goo', 'bat', 'me', 'eat', 'goal', 'boy', 'run'] \n",
        "charSet = ['e', 'o', 'b', 'a', 'm', 'g', 'l'] \n",
        "\n",
        "\n",
        "def chk(s,letters):\n",
        "  word=letters\n",
        "  leng=len(s)\n",
        "  count=0\n",
        "  for i in s:\n",
        "    if i in word:\n",
        "      count=count+1\n",
        "  if count==leng:\n",
        "    return True\n",
        "  \n",
        "ans=[]\n",
        "j=-1\n",
        "for i in input_dict:\n",
        "  j=j+1\n",
        "  i=list(i)\n",
        "  if chk(i,charSet):\n",
        "    ans.append(input_dict[j])\n",
        "for i in ans:\n",
        "  print(i,end=\" \")\n",
        "\n",
        "\n",
        "\n",
        "\n",
        "\n"
      ],
      "execution_count": null,
      "outputs": [
        {
          "output_type": "stream",
          "text": [
            "goo me goal "
          ],
          "name": "stdout"
        }
      ]
    },
    {
      "cell_type": "code",
      "metadata": {
        "id": "SEs96eAKXFxG",
        "colab_type": "code",
        "colab": {}
      },
      "source": [
        "\"\"\"\n",
        "If the given number is 582109, \n",
        "the Sum of Powers of Digits = = (5 raised to the power of 6) + (8 raised to the power of 5) + (2 raised to the power of 4) + (1 raised to the power of 3)\n",
        "+ (0 raised to the power of 2) + (9 raised to the power of 1) = 15625 + 32768 + 16 + 1 + 0 + 9 = 48419\n",
        "\n",
        "\"\"\""
      ],
      "execution_count": null,
      "outputs": []
    },
    {
      "cell_type": "code",
      "metadata": {
        "id": "quJ-dD1yaL6U",
        "colab_type": "code",
        "colab": {
          "base_uri": "https://localhost:8080/",
          "height": 35
        },
        "outputId": "7cee684c-b291-47f8-bc89-7c3eca1e83b3"
      },
      "source": [
        "import numpy as np\n",
        "\n",
        "a=00000000\n",
        "\n",
        "num=np.abs(a)\n",
        "a=str(a)\n",
        "a_=str(num)\n",
        "a=list(a)\n",
        "leng=len(a)\n",
        "\n",
        "ans=[]\n",
        "j=0\n",
        "\n",
        "for i in range(leng,0,-1):\n",
        "  a[j]=int(a[j])\n",
        "  \n",
        "  c=pow(a[j],i)\n",
        "  ans.append(c)\n",
        "  j=j+1\n",
        "summ=0\n",
        "for i in ans:\n",
        "  summ=summ+i\n",
        "print(summ)\n",
        "\n"
      ],
      "execution_count": null,
      "outputs": [
        {
          "output_type": "stream",
          "text": [
            "0\n"
          ],
          "name": "stdout"
        }
      ]
    },
    {
      "cell_type": "code",
      "metadata": {
        "id": "w2XlkjSMaXqF",
        "colab_type": "code",
        "colab": {
          "base_uri": "https://localhost:8080/",
          "height": 35
        },
        "outputId": "0ded2683-e839-4c52-d501-a0c85fc1830d"
      },
      "source": [
        "import numpy as np \n",
        "a=-582109\n",
        "num=np.abs(a)\n",
        "a=str(a)\n",
        "a=list(a)\n",
        "\n",
        "if a[0] is '-':\n",
        "  a.remove('-')\n",
        "  l=len(a)\n",
        "  j=0\n",
        "  new=[]\n",
        "  for i in range(l):\n",
        "    j=j+1\n",
        "    a[i]=int(a[i])\n",
        "    c=pow(a[i],j)\n",
        "    new.append(c)\n",
        "  tot=0\n",
        "  for i in new:\n",
        "\n",
        "    tot=tot+i\n",
        "  tot=str(tot)\n",
        "  print('-'+tot)\n",
        "\n",
        "\n",
        "\n",
        "\n",
        "  \n"
      ],
      "execution_count": null,
      "outputs": [
        {
          "output_type": "stream",
          "text": [
            "-531519\n"
          ],
          "name": "stdout"
        }
      ]
    },
    {
      "cell_type": "code",
      "metadata": {
        "id": "1sTxOgCKb-Ao",
        "colab_type": "code",
        "colab": {
          "base_uri": "https://localhost:8080/",
          "height": 35
        },
        "outputId": "91c51364-0f63-4f3c-fcaa-3c5f6641f325"
      },
      "source": [
        "def add_digits(string):\n",
        "    result = 0\n",
        "    for i in range(len(string)):\n",
        "        for char in string[i:]:\n",
        "            result += int(char)\n",
        "    return result\n",
        "\n",
        "print(add_digits(\"582109\"))"
      ],
      "execution_count": null,
      "outputs": [
        {
          "output_type": "stream",
          "text": [
            "85\n"
          ],
          "name": "stdout"
        }
      ]
    },
    {
      "cell_type": "code",
      "metadata": {
        "id": "QWRiRpJji8E-",
        "colab_type": "code",
        "colab": {
          "base_uri": "https://localhost:8080/",
          "height": 126
        },
        "outputId": "e8dc2397-48d5-462f-c13c-86f4f1d47858"
      },
      "source": [
        "a=\"582109\"\n",
        "for i in a[i:]:\n",
        "  print(i)"
      ],
      "execution_count": null,
      "outputs": [
        {
          "output_type": "stream",
          "text": [
            "5\n",
            "8\n",
            "2\n",
            "1\n",
            "0\n",
            "9\n"
          ],
          "name": "stdout"
        }
      ]
    },
    {
      "cell_type": "code",
      "metadata": {
        "id": "SG5Ca-_ojYDA",
        "colab_type": "code",
        "colab": {}
      },
      "source": [
        ""
      ],
      "execution_count": null,
      "outputs": []
    },
    {
      "cell_type": "code",
      "metadata": {
        "id": "F8yf0wjeT1tT",
        "colab_type": "code",
        "colab": {
          "base_uri": "https://localhost:8080/",
          "height": 90
        },
        "outputId": "027ebdb1-94f7-4623-9482-a43c3924367c"
      },
      "source": [
        "# Encoding 3 strings \n",
        "\n",
        "def divide(s):\n",
        "\n",
        "  rem=len(s)%3\n",
        "  div=len(s)//3\n",
        "  l=len(s)\n",
        "\n",
        "  first=\"\"\n",
        "  middle=\"\"\n",
        "  last=\"\"\n",
        "\n",
        "  if rem==1:\n",
        "    \n",
        "    first=s[0:div]\n",
        "    middle=s[len(first):len(first)+div+rem]\n",
        "    last=s[len(first)+len(middle):l]\n",
        "\n",
        "  elif rem==2:\n",
        "    first=s[0:div+1]\n",
        "    middle=s[len(first):len(first)+div]\n",
        "    last=s[len(first)+len(middle):l]\n",
        "\n",
        "  elif rem==0:\n",
        "    first=s[0:div]\n",
        "    middle=s[len(first):len(first)+div]\n",
        "    last=s[len(first)+len(middle):l]\n",
        "  \n",
        "  ans=[]\n",
        "  ans.append(first)\n",
        "  ans.append(middle)\n",
        "  ans.append(last)\n",
        "\n",
        "  return ans\n",
        "\n",
        "  \n",
        "\n",
        "\n",
        "\n",
        "a=[]\n",
        "for i in range(3):\n",
        "  n=input()\n",
        "  a.append(n)\n",
        "\n",
        "a1=a[0]\n",
        "a2=a[1]\n",
        "a3=a[2]\n",
        "\n",
        "\n",
        "\n",
        "\n",
        "A1=divide(a1)\n",
        "A2=divide(a2)\n",
        "A3=divide(a3)\n",
        "\n",
        "\"\"\"\n",
        "Output1=FRONT part of Input1 + FRONT part of Input2 + FRONT part of input3\n",
        "Output2= MIDDLE part of Input1 + MIDDLE part of Input2 + MIDDLE part of input3\n",
        "Output3= END part of Input1 + END part of Input2 + END part of input3\n",
        "\n",
        "\n",
        "Output1= “JJoJan”\n",
        "Output2=”ohhard”\n",
        "Output3=“ NNYHAN”\n",
        "\"\"\"\n",
        "\n",
        "ans1=A1[0]+A2[0]+A3[0]\n",
        "ans2=A1[1]+A2[1]+A3[1]\n",
        "ans3=A1[2]+A2[2]+A3[2]\n",
        "\n",
        "#ans1=ans1.swapcase()\n",
        "#ans2=ans2.swapcase()\n",
        "ans3=ans3.swapcase()\n",
        "\n",
        "\n",
        "print(ans1,ans2,ans3)\n",
        "\n"
      ],
      "execution_count": null,
      "outputs": [
        {
          "output_type": "stream",
          "text": [
            "John\n",
            "Johny\n",
            "Janardhan\n",
            "JJoJan ohhard NNYHAN\n"
          ],
          "name": "stdout"
        }
      ]
    },
    {
      "cell_type": "code",
      "metadata": {
        "id": "BsT4GTp6daoQ",
        "colab_type": "code",
        "colab": {}
      },
      "source": [
        ""
      ],
      "execution_count": null,
      "outputs": []
    },
    {
      "cell_type": "code",
      "metadata": {
        "id": "84OAf14TdxGN",
        "colab_type": "code",
        "colab": {
          "base_uri": "https://localhost:8080/",
          "height": 54
        },
        "outputId": "de836709-2ec8-422e-ac07-e69d59674784"
      },
      "source": [
        "\n",
        "def split_dig(a):\n",
        "  a=str(a)\n",
        "  a=list(a)\n",
        "  new=[]\n",
        "  for i in a:\n",
        "    i=int(i)\n",
        "    new.append(i)\n",
        "  return new\n",
        "\n",
        "\n",
        "\n",
        "# work.sort(reverse=False) \n",
        "\n",
        "a1=190\n",
        "a2=267\n",
        "a3=853\n",
        "\n",
        "A1=split_dig(a1)\n",
        "A2=split_dig(a2)\n",
        "A3=split_dig(a3)\n",
        "\n",
        "unit=[A1[2],A2[2],A3[2]]\n",
        "tens=[A1[1],A2[1],A3[1]]\n",
        "hundred=[A1[0],A2[0],A3[0]]\n",
        "\n",
        "min_unit=min(unit)\n",
        "min_tens=min(tens)\n",
        "min_hundred=min(hundred)\n",
        "\n",
        "max_unit=max(unit)\n",
        "max_tens=max(tens)\n",
        "max_hundred=max(hundred)\n",
        "\n",
        "thousand=max([max_unit,max_tens,max_hundred])\n",
        "\n",
        "\n",
        "min_unit=min(unit)\n",
        "min_tens=min(tens)\n",
        "min_hundred=min(hundred)\n",
        "\n",
        "Ans=str(thousand)+str(min_hundred)+str(min_tens)+str(min_unit)\n",
        "Ans\n"
      ],
      "execution_count": null,
      "outputs": [
        {
          "output_type": "stream",
          "text": [
            "[1, 9, 0] [2, 6, 7] [8, 5, 3]\n"
          ],
          "name": "stdout"
        },
        {
          "output_type": "execute_result",
          "data": {
            "application/vnd.google.colaboratory.intrinsic+json": {
              "type": "string"
            },
            "text/plain": [
              "'9150'"
            ]
          },
          "metadata": {
            "tags": []
          },
          "execution_count": 35
        }
      ]
    },
    {
      "cell_type": "code",
      "metadata": {
        "id": "3ad1PK8DpHc5",
        "colab_type": "code",
        "colab": {}
      },
      "source": [
        ""
      ],
      "execution_count": null,
      "outputs": []
    },
    {
      "cell_type": "code",
      "metadata": {
        "id": "VTwDmtyffafN",
        "colab_type": "code",
        "colab": {
          "base_uri": "https://localhost:8080/",
          "height": 35
        },
        "outputId": "e768de17-322c-4299-f920-84c07bdd806b"
      },
      "source": [
        "# Weight of string\n",
        "input1=\"Hello World\"\n",
        "input2=1\n",
        "\n",
        "def chk(s):\n",
        "  t=\"\"\n",
        "  for i in s:\n",
        "    if (i>='a' and i<='z' or (i>='A' and i<='Z')):\n",
        "      t=t+i\n",
        "  \n",
        "  return t\n",
        "\n",
        "input1=input1.replace(\" \",\"\")\n",
        "input1=chk(input1)\n",
        "input1=input1.lower()\n",
        "\n",
        "test=list(input1)\n",
        "weight=dict()\n",
        "alpha=['a', 'b', 'c', 'd', 'e', 'f', 'g', 'h', 'i', 'j', 'k', 'l', 'm', 'n', 'o', 'p', 'q', 'r', 's', 't', 'u', 'v', 'w', 'x', 'y', 'z']\n",
        "\n",
        "for i,x in enumerate(alpha,start=1):\n",
        "  weight[x]=i\n",
        "vowels=['a','e','i','o','u']\n",
        "w_vow=weight.copy()\n",
        "\n",
        "# please be careful this has print since it is not inside function\n",
        "if input2==0:\n",
        "  for i,x in enumerate(alpha,start=1):\n",
        "    if x in vowels:\n",
        "      w_vow[x]=0\n",
        "  new=[]\n",
        "  for i in test:\n",
        "    c=w_vow.get(i)\n",
        "    new.append(c)\n",
        "  summ=0\n",
        "  for i in new:\n",
        "    summ=summ+i\n",
        "  print(summ)\n",
        "  #return summ\n",
        "else:\n",
        "  new=[]\n",
        "  \n",
        "  for i in test:\n",
        "    \n",
        "    c=weight.get(i)\n",
        "    new.append(c)\n",
        "  summ=0\n",
        "  for i in new:\n",
        "    summ=summ+i\n",
        "  print(summ)\n",
        "  #return summ\n"
      ],
      "execution_count": null,
      "outputs": [
        {
          "output_type": "stream",
          "text": [
            "124\n"
          ],
          "name": "stdout"
        }
      ]
    },
    {
      "cell_type": "code",
      "metadata": {
        "id": "D-rAt4W2sbJk",
        "colab_type": "code",
        "colab": {
          "base_uri": "https://localhost:8080/",
          "height": 35
        },
        "outputId": "318feda9-5e37-4b91-c2eb-0f7714516004"
      },
      "source": [
        "# do even or odd\n",
        "a=[10,20,30,40,'Even']\n",
        "a.pop()"
      ],
      "execution_count": null,
      "outputs": [
        {
          "output_type": "execute_result",
          "data": {
            "application/vnd.google.colaboratory.intrinsic+json": {
              "type": "string"
            },
            "text/plain": [
              "'Even'"
            ]
          },
          "metadata": {
            "tags": []
          },
          "execution_count": 58
        }
      ]
    },
    {
      "cell_type": "code",
      "metadata": {
        "id": "v-pihiGO015n",
        "colab_type": "code",
        "colab": {
          "base_uri": "https://localhost:8080/",
          "height": 35
        },
        "outputId": "202c041d-2b14-4b82-fa44-16f9f1f4db3d"
      },
      "source": [
        "a"
      ],
      "execution_count": null,
      "outputs": [
        {
          "output_type": "execute_result",
          "data": {
            "text/plain": [
              "[10, 20, 30, 40]"
            ]
          },
          "metadata": {
            "tags": []
          },
          "execution_count": 59
        }
      ]
    },
    {
      "cell_type": "code",
      "metadata": {
        "id": "h4agpGTP02uf",
        "colab_type": "code",
        "colab": {
          "base_uri": "https://localhost:8080/",
          "height": 35
        },
        "outputId": "1da6cb74-322f-40e1-c4f0-1bb5f3d6b08b"
      },
      "source": [
        "# no of non repeated digits \n",
        "\n",
        "\n",
        "import numpy as np\n",
        "\n",
        "def split_digg(a):\n",
        "  a=np.abs(a)\n",
        "  a=str(a)\n",
        "  a=list(a)\n",
        "  new=[]\n",
        "  for i in a:\n",
        "    i=int(i)\n",
        "    new.append(i)\n",
        "  \n",
        "  return new      # int not string so dont worry \n",
        "\n",
        "input11=split_digg(-108)\n",
        "\n",
        "ans=0\n",
        "\n",
        "for i in input11:\n",
        "  if input11.count(i) ==1:\n",
        "    ans=ans+1\n",
        "    \n",
        "print(ans)"
      ],
      "execution_count": null,
      "outputs": [
        {
          "output_type": "stream",
          "text": [
            "3\n"
          ],
          "name": "stdout"
        }
      ]
    },
    {
      "cell_type": "code",
      "metadata": {
        "id": "CJIT8WBi3P8s",
        "colab_type": "code",
        "colab": {}
      },
      "source": [
        ""
      ],
      "execution_count": null,
      "outputs": []
    },
    {
      "cell_type": "code",
      "metadata": {
        "id": "hS-oF21o6rTp",
        "colab_type": "code",
        "colab": {}
      },
      "source": [
        ""
      ],
      "execution_count": null,
      "outputs": []
    }
  ]
}